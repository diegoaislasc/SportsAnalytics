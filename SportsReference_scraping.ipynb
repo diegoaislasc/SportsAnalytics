{
 "cells": [
  {
   "cell_type": "code",
   "id": "initial_id",
   "metadata": {
    "collapsed": true,
    "ExecuteTime": {
     "end_time": "2025-08-16T05:27:59.779490Z",
     "start_time": "2025-08-16T05:27:59.776785Z"
    }
   },
   "source": [
    "# https://pypi.org/project/sportsreference/\n",
    "# http://fbrapi.com/documentation"
   ],
   "outputs": [],
   "execution_count": 17
  },
  {
   "metadata": {
    "ExecuteTime": {
     "end_time": "2025-08-16T05:28:00.511017Z",
     "start_time": "2025-08-16T05:28:00.508115Z"
    }
   },
   "cell_type": "code",
   "source": "import requests",
   "id": "ea1646b373498ac0",
   "outputs": [],
   "execution_count": 18
  },
  {
   "metadata": {
    "ExecuteTime": {
     "end_time": "2025-08-16T05:28:06.433568Z",
     "start_time": "2025-08-16T05:28:03.084307Z"
    }
   },
   "cell_type": "code",
   "source": [
    "response = requests.post('https://fbrapi.com/generate_api_key')\n",
    "api_key = response.json()['api_key']\n",
    "print(\"API Key:\", api_key)"
   ],
   "id": "6e2314580117aea0",
   "outputs": [
    {
     "name": "stdout",
     "output_type": "stream",
     "text": [
      "API Key: zVuYcrfAhrCcqq6ia3dCI0H7xMaA_D9gaLiPHYuQcSo\n"
     ]
    }
   ],
   "execution_count": 19
  },
  {
   "metadata": {
    "ExecuteTime": {
     "end_time": "2025-08-16T05:35:57.210955Z",
     "start_time": "2025-08-16T05:35:55.782753Z"
    }
   },
   "cell_type": "code",
   "source": [
    "url = \"https://fbrapi.com/countries\"\n",
    "params = {\n",
    "    \"country_code\": \"MEX\"\n",
    "}\n",
    "headers = {\"X-API-Key\": api_key}\n",
    "\n",
    "response = requests.get(url, params=params, headers=headers)\n",
    "print(response.json()['data'][0])"
   ],
   "id": "73da90d0f1b9f8ab",
   "outputs": [
    {
     "name": "stdout",
     "output_type": "stream",
     "text": [
      "{'country': 'Afghanistan', 'country_code': 'AFG', 'governing_body': 'AFC', '#_clubs': 0, '#_players': 215, 'national_teams': ['M', 'F']}\n"
     ]
    }
   ],
   "execution_count": 33
  },
  {
   "metadata": {},
   "cell_type": "code",
   "outputs": [],
   "execution_count": null,
   "source": "",
   "id": "b60e5144203f8612"
  }
 ],
 "metadata": {
  "kernelspec": {
   "display_name": "Python 3",
   "language": "python",
   "name": "python3"
  },
  "language_info": {
   "codemirror_mode": {
    "name": "ipython",
    "version": 2
   },
   "file_extension": ".py",
   "mimetype": "text/x-python",
   "name": "python",
   "nbconvert_exporter": "python",
   "pygments_lexer": "ipython2",
   "version": "2.7.6"
  }
 },
 "nbformat": 4,
 "nbformat_minor": 5
}
